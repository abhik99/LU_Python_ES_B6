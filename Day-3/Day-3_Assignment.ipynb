{
 "cells": [
  {
   "cell_type": "code",
   "execution_count": 1,
   "metadata": {},
   "outputs": [
    {
     "name": "stdout",
     "output_type": "stream",
     "text": [
      "Enter number else type end to end this 45\n",
      "Enter number else type end to end this 456\n",
      "Enter number else type end to end this 746534\n",
      "Enter number else type end to end this 24235\n",
      "Enter number else type end to end this end\n",
      "771270\n"
     ]
    }
   ],
   "source": [
    "#sum of n numbers using while loop\n",
    "num = sum = 0\n",
    "while True:\n",
    "    num = input(\"Enter number else type end to end this \")\n",
    "    if num != \"end\":\n",
    "        sum = sum + int(num)\n",
    "    else:\n",
    "        break\n",
    "print(sum)"
   ]
  },
  {
   "cell_type": "code",
   "execution_count": 3,
   "metadata": {},
   "outputs": [
    {
     "name": "stdout",
     "output_type": "stream",
     "text": [
      "Enter prime no.17\n",
      "Prime\n"
     ]
    }
   ],
   "source": [
    "#input number and check if it is prime or not\n",
    "num = int(input(\"Enter prime no.\"))\n",
    "for i in range(2,num):\n",
    "    if num%i == 0:\n",
    "        print(\"Not Prime\")\n",
    "        break\n",
    "else:\n",
    "        print(\"Prime\")"
   ]
  },
  {
   "cell_type": "code",
   "execution_count": null,
   "metadata": {},
   "outputs": [],
   "source": []
  }
 ],
 "metadata": {
  "kernelspec": {
   "display_name": "Python 3",
   "language": "python",
   "name": "python3"
  },
  "language_info": {
   "codemirror_mode": {
    "name": "ipython",
    "version": 3
   },
   "file_extension": ".py",
   "mimetype": "text/x-python",
   "name": "python",
   "nbconvert_exporter": "python",
   "pygments_lexer": "ipython3",
   "version": "3.7.6"
  }
 },
 "nbformat": 4,
 "nbformat_minor": 4
}
