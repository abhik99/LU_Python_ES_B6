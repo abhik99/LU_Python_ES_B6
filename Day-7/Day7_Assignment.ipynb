{
 "cells": [
  {
   "cell_type": "code",
   "execution_count": 9,
   "metadata": {},
   "outputs": [
    {
     "name": "stdout",
     "output_type": "stream",
     "text": [
      "{'FTP': 21, 'SSH': 22, 'telnet': 23, 'http': 80}\n"
     ]
    }
   ],
   "source": [
    "#Use the dictionary, port1 = {21: \"FTP\", 22:\"SSH\", 23: \"telnet\", 80: \"http\"}, and make a new dictionary in which keys become values and values become keys\n",
    "port1 = {21: \"FTP\", 22:\"SSH\", 23: \"telnet\", 80: \"http\"}\n",
    "port2 = {}\n",
    "p = list(port1.keys())\n",
    "q = list(port1.values())\n",
    "port2 = { q[x]:p[x] for x in range(len(p))}\n",
    "print(port2)"
   ]
  },
  {
   "cell_type": "code",
   "execution_count": 23,
   "metadata": {},
   "outputs": [
    {
     "name": "stdout",
     "output_type": "stream",
     "text": [
      "[3, 7, 11, 9, 30]\n"
     ]
    }
   ],
   "source": [
    "#Take a list of tuple as shown below. [(1,2), (3,4), (5,6),(4,5)] Make a new list which contains sum of number of tuples. \n",
    "l1 = [(1,2),(3,4),(5,6),(4,5),(10,20)]\n",
    "final = [sum(x) for x in l1 ]\n",
    "print(final)"
   ]
  },
  {
   "cell_type": "code",
   "execution_count": 22,
   "metadata": {},
   "outputs": [
    {
     "name": "stdout",
     "output_type": "stream",
     "text": [
      "[1, 2, 3, 1, 2, 'a', 'hit', 'less']\n"
     ]
    }
   ],
   "source": [
    "#Take a list as shown below [(1,2,3), [1,2], ['a','hit','less']] The List contains tuple and lists. Make the elements of inner lists and tuples to outer list\n",
    "l1 = [(1,2,3),[1,2],['a','hit','less']]\n",
    "final = []\n",
    "for x in l1: \n",
    "    if type(x)==type(l1): \n",
    "        final = final+x\n",
    "    elif type(x)==tuple:\n",
    "        final.extend(x)\n",
    "    else: \n",
    "        final.append(x)\n",
    "print(final)"
   ]
  },
  {
   "cell_type": "code",
   "execution_count": null,
   "metadata": {},
   "outputs": [],
   "source": []
  }
 ],
 "metadata": {
  "kernelspec": {
   "display_name": "Python 3",
   "language": "python",
   "name": "python3"
  },
  "language_info": {
   "codemirror_mode": {
    "name": "ipython",
    "version": 3
   },
   "file_extension": ".py",
   "mimetype": "text/x-python",
   "name": "python",
   "nbconvert_exporter": "python",
   "pygments_lexer": "ipython3",
   "version": "3.8.3"
  }
 },
 "nbformat": 4,
 "nbformat_minor": 4
}
