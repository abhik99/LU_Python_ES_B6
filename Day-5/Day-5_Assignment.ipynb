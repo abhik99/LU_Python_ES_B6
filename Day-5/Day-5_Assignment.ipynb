{
 "cells": [
  {
   "cell_type": "code",
   "execution_count": 56,
   "metadata": {
    "scrolled": true
   },
   "outputs": [
    {
     "name": "stdout",
     "output_type": "stream",
     "text": [
      "[0, 0, 0, 0, 0, 1, 1, 1, 2, 2, 3, 4, 4, 10, 56, 56]\n",
      "[1, 1, 1, 2, 2, 3, 4, 4, 10, 56, 56]\n",
      "[0, 0, 0, 0, 0]\n",
      "[1, 1, 1, 2, 2, 3, 4, 4, 10, 56, 56, 0, 0, 0, 0, 0]\n"
     ]
    }
   ],
   "source": [
    "#Sort in increasing order but 0 are in right side [0,1,2,10,4,1,0,56,2,0,1,3,0,56,0,4]\n",
    "p = [0,1,2,10,4,1,0,56,2,0,1,3,0,56,0,4]\n",
    "p.sort()\n",
    "q = []\n",
    "print(p)\n",
    "x = 0\n",
    "for x in p[0:]:\n",
    "    if x < 1:\n",
    "        q.append(x)\n",
    "        del p[x]\n",
    "print(p)\n",
    "print(q)\n",
    "r = p + q\n",
    "print(r)"
   ]
  },
  {
   "cell_type": "code",
   "execution_count": 61,
   "metadata": {},
   "outputs": [
    {
     "name": "stdout",
     "output_type": "stream",
     "text": [
      "The sorted list is  [5, 10, 15, 20, 25, 35, 40, 45, 60, 60, 70, 80]\n"
     ]
    }
   ],
   "source": [
    "#given two sorted list merge them using for/while loop and produce one list\n",
    "l1=[10,20,40,60,70,80]\n",
    "l2=[5,15,25,35,45,60]\n",
    "l3=l1+l2\n",
    "final=[]\n",
    "for x in l3[0:]:\n",
    "    final.append(min(l3))\n",
    "    l3.remove(min(l3))\n",
    "print(\"The sorted list is \",final)"
   ]
  },
  {
   "cell_type": "code",
   "execution_count": null,
   "metadata": {},
   "outputs": [],
   "source": []
  }
 ],
 "metadata": {
  "kernelspec": {
   "display_name": "Python 3",
   "language": "python",
   "name": "python3"
  },
  "language_info": {
   "codemirror_mode": {
    "name": "ipython",
    "version": 3
   },
   "file_extension": ".py",
   "mimetype": "text/x-python",
   "name": "python",
   "nbconvert_exporter": "python",
   "pygments_lexer": "ipython3",
   "version": "3.8.3"
  }
 },
 "nbformat": 4,
 "nbformat_minor": 4
}
